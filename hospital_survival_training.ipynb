{
 "cells": [
  {
   "cell_type": "code",
   "execution_count": 88,
   "metadata": {},
   "outputs": [],
   "source": [
    "import pyspark\n",
    "%matplotlib inline"
   ]
  },
  {
   "cell_type": "code",
   "execution_count": 8,
   "metadata": {},
   "outputs": [],
   "source": [
    "from pyspark.sql.functions import *"
   ]
  },
  {
   "cell_type": "code",
   "execution_count": 12,
   "metadata": {},
   "outputs": [],
   "source": [
    "import numpy as np"
   ]
  },
  {
   "cell_type": "markdown",
   "metadata": {},
   "source": [
    "### resource used for code in building models\n",
    "https://towardsdatascience.com/machine-learning-with-pyspark-and-mllib-solving-a-binary-classification-problem-96396065d2aa"
   ]
  },
  {
   "cell_type": "code",
   "execution_count": 2,
   "metadata": {},
   "outputs": [
    {
     "name": "stdout",
     "output_type": "stream",
     "text": [
      "root\n",
      " |-- encounter_id: integer (nullable = true)\n",
      " |-- patient_id: integer (nullable = true)\n",
      " |-- hospital_id: integer (nullable = true)\n",
      " |-- hospital_death: integer (nullable = true)\n",
      " |-- age: double (nullable = true)\n",
      " |-- bmi: double (nullable = true)\n",
      " |-- elective_surgery: integer (nullable = true)\n",
      " |-- ethnicity: string (nullable = true)\n",
      " |-- gender: string (nullable = true)\n",
      " |-- height: double (nullable = true)\n",
      " |-- hospital_admit_source: string (nullable = true)\n",
      " |-- icu_admit_source: string (nullable = true)\n",
      " |-- icu_id: integer (nullable = true)\n",
      " |-- icu_stay_type: string (nullable = true)\n",
      " |-- icu_type: string (nullable = true)\n",
      " |-- pre_icu_los_days: double (nullable = true)\n",
      " |-- readmission_status: integer (nullable = true)\n",
      " |-- weight: double (nullable = true)\n",
      " |-- albumin_apache: double (nullable = true)\n",
      " |-- apache_2_diagnosis: double (nullable = true)\n",
      " |-- apache_3j_diagnosis: double (nullable = true)\n",
      " |-- arf_apache: double (nullable = true)\n",
      " |-- bilirubin_apache: double (nullable = true)\n",
      " |-- bun_apache: double (nullable = true)\n",
      " |-- creatinine_apache: double (nullable = true)\n",
      " |-- fio2_apache: double (nullable = true)\n",
      " |-- gcs_eyes_apache: double (nullable = true)\n",
      " |-- gcs_motor_apache: double (nullable = true)\n",
      " |-- gcs_unable_apache: double (nullable = true)\n",
      " |-- gcs_verbal_apache: double (nullable = true)\n",
      " |-- glucose_apache: double (nullable = true)\n",
      " |-- heart_rate_apache: double (nullable = true)\n",
      " |-- hematocrit_apache: double (nullable = true)\n",
      " |-- intubated_apache: double (nullable = true)\n",
      " |-- map_apache: double (nullable = true)\n",
      " |-- paco2_apache: double (nullable = true)\n",
      " |-- pao2_apache: double (nullable = true)\n",
      " |-- ph_apache: double (nullable = true)\n",
      " |-- resprate_apache: double (nullable = true)\n",
      " |-- sodium_apache: double (nullable = true)\n",
      " |-- temp_apache: double (nullable = true)\n",
      " |-- urineoutput_apache: double (nullable = true)\n",
      " |-- ventilated_apache: double (nullable = true)\n",
      " |-- wbc_apache: double (nullable = true)\n",
      " |-- d1_diasbp_invasive_max: double (nullable = true)\n",
      " |-- d1_diasbp_invasive_min: double (nullable = true)\n",
      " |-- d1_diasbp_max: double (nullable = true)\n",
      " |-- d1_diasbp_min: double (nullable = true)\n",
      " |-- d1_heartrate_max: double (nullable = true)\n",
      " |-- d1_heartrate_min: double (nullable = true)\n",
      " |-- d1_mbp_invasive_max: double (nullable = true)\n",
      " |-- d1_mbp_invasive_min: double (nullable = true)\n",
      " |-- d1_mbp_max: double (nullable = true)\n",
      " |-- d1_mbp_min: double (nullable = true)\n",
      " |-- d1_resprate_max: double (nullable = true)\n",
      " |-- d1_resprate_min: double (nullable = true)\n",
      " |-- d1_spo2_max: double (nullable = true)\n",
      " |-- d1_spo2_min: double (nullable = true)\n",
      " |-- d1_sysbp_invasive_max: double (nullable = true)\n",
      " |-- d1_sysbp_invasive_min: double (nullable = true)\n",
      " |-- d1_sysbp_max: double (nullable = true)\n",
      " |-- d1_sysbp_min: double (nullable = true)\n",
      " |-- d1_temp_max: double (nullable = true)\n",
      " |-- d1_temp_min: double (nullable = true)\n",
      " |-- h1_diasbp_invasive_max: double (nullable = true)\n",
      " |-- h1_diasbp_invasive_min: double (nullable = true)\n",
      " |-- h1_diasbp_max: double (nullable = true)\n",
      " |-- h1_diasbp_min: double (nullable = true)\n",
      " |-- h1_heartrate_max: double (nullable = true)\n",
      " |-- h1_heartrate_min: double (nullable = true)\n",
      " |-- h1_mbp_invasive_max: double (nullable = true)\n",
      " |-- h1_mbp_invasive_min: double (nullable = true)\n",
      " |-- h1_mbp_max: double (nullable = true)\n",
      " |-- h1_mbp_min: double (nullable = true)\n",
      " |-- h1_resprate_max: double (nullable = true)\n",
      " |-- h1_resprate_min: double (nullable = true)\n",
      " |-- h1_spo2_max: double (nullable = true)\n",
      " |-- h1_spo2_min: double (nullable = true)\n",
      " |-- h1_sysbp_invasive_max: double (nullable = true)\n",
      " |-- h1_sysbp_invasive_min: double (nullable = true)\n",
      " |-- h1_sysbp_max: double (nullable = true)\n",
      " |-- h1_sysbp_min: double (nullable = true)\n",
      " |-- h1_temp_max: double (nullable = true)\n",
      " |-- h1_temp_min: double (nullable = true)\n",
      " |-- d1_calcium_max: double (nullable = true)\n",
      " |-- d1_calcium_min: double (nullable = true)\n",
      " |-- d1_glucose_min: double (nullable = true)\n",
      " |-- d1_hco3_max: double (nullable = true)\n",
      " |-- d1_hco3_min: double (nullable = true)\n",
      " |-- d1_hemaglobin_max: double (nullable = true)\n",
      " |-- d1_inr_max: double (nullable = true)\n",
      " |-- d1_inr_min: double (nullable = true)\n",
      " |-- d1_lactate_max: double (nullable = true)\n",
      " |-- d1_lactate_min: double (nullable = true)\n",
      " |-- d1_platelets_max: double (nullable = true)\n",
      " |-- d1_potassium_max: double (nullable = true)\n",
      " |-- d1_potassium_min: double (nullable = true)\n",
      " |-- d1_sodium_max: double (nullable = true)\n",
      " |-- h1_calcium_max: double (nullable = true)\n",
      " |-- h1_glucose_max: double (nullable = true)\n",
      " |-- h1_potassium_max: double (nullable = true)\n",
      " |-- h1_sodium_max: double (nullable = true)\n",
      " |-- d1_arterial_pco2_max: double (nullable = true)\n",
      " |-- d1_arterial_pco2_min: double (nullable = true)\n",
      " |-- d1_arterial_ph_max: double (nullable = true)\n",
      " |-- d1_arterial_ph_min: double (nullable = true)\n",
      " |-- d1_arterial_po2_max: double (nullable = true)\n",
      " |-- d1_arterial_po2_min: double (nullable = true)\n",
      " |-- d1_pao2fio2ratio_max: double (nullable = true)\n",
      " |-- d1_pao2fio2ratio_min: double (nullable = true)\n",
      " |-- h1_arterial_ph_max: double (nullable = true)\n",
      " |-- h1_arterial_po2_max: double (nullable = true)\n",
      " |-- h1_arterial_po2_min: double (nullable = true)\n",
      " |-- h1_pao2fio2ratio_max: double (nullable = true)\n",
      " |-- apache_4a_hospital_death_prob: double (nullable = true)\n",
      " |-- apache_4a_icu_death_prob: double (nullable = true)\n",
      " |-- aids: double (nullable = true)\n",
      " |-- cirrhosis: double (nullable = true)\n",
      " |-- diabetes_mellitus: double (nullable = true)\n",
      " |-- hepatic_failure: double (nullable = true)\n",
      " |-- immunosuppression: double (nullable = true)\n",
      " |-- leukemia: double (nullable = true)\n",
      " |-- lymphoma: double (nullable = true)\n",
      " |-- solid_tumor_with_metastasis: double (nullable = true)\n",
      " |-- apache_3j_bodysystem: string (nullable = true)\n",
      " |-- apache_2_bodysystem: string (nullable = true)\n",
      "\n"
     ]
    }
   ],
   "source": [
    "from pyspark.sql import SparkSession\n",
    "spark = SparkSession.builder.appName('ml-bank').getOrCreate()\n",
    "df_training = spark.read.csv('df_training_updated.csv', header = True, inferSchema = True)\n",
    "df_training.printSchema()"
   ]
  },
  {
   "cell_type": "code",
   "execution_count": 15,
   "metadata": {},
   "outputs": [
    {
     "name": "stdout",
     "output_type": "stream",
     "text": [
      "+--------------+-----+\n",
      "|hospital_death|count|\n",
      "+--------------+-----+\n",
      "|             1| 7915|\n",
      "|             0|83798|\n",
      "+--------------+-----+\n",
      "\n"
     ]
    }
   ],
   "source": [
    "df_training.groupBy('hospital_death').count().show()"
   ]
  },
  {
   "cell_type": "code",
   "execution_count": 19,
   "metadata": {},
   "outputs": [
    {
     "data": {
      "text/plain": [
       "[('encounter_id', 'int'),\n",
       " ('patient_id', 'int'),\n",
       " ('hospital_id', 'int'),\n",
       " ('hospital_death', 'int'),\n",
       " ('age', 'double'),\n",
       " ('bmi', 'double'),\n",
       " ('elective_surgery', 'int'),\n",
       " ('ethnicity', 'string'),\n",
       " ('gender', 'string'),\n",
       " ('height', 'double'),\n",
       " ('hospital_admit_source', 'string'),\n",
       " ('icu_admit_source', 'string'),\n",
       " ('icu_id', 'int'),\n",
       " ('icu_stay_type', 'string'),\n",
       " ('icu_type', 'string'),\n",
       " ('pre_icu_los_days', 'double'),\n",
       " ('readmission_status', 'int'),\n",
       " ('weight', 'double'),\n",
       " ('albumin_apache', 'double'),\n",
       " ('apache_2_diagnosis', 'double'),\n",
       " ('apache_3j_diagnosis', 'double'),\n",
       " ('arf_apache', 'double'),\n",
       " ('bilirubin_apache', 'double'),\n",
       " ('bun_apache', 'double'),\n",
       " ('creatinine_apache', 'double'),\n",
       " ('fio2_apache', 'double'),\n",
       " ('gcs_eyes_apache', 'double'),\n",
       " ('gcs_motor_apache', 'double'),\n",
       " ('gcs_unable_apache', 'double'),\n",
       " ('gcs_verbal_apache', 'double'),\n",
       " ('glucose_apache', 'double'),\n",
       " ('heart_rate_apache', 'double'),\n",
       " ('hematocrit_apache', 'double'),\n",
       " ('intubated_apache', 'double'),\n",
       " ('map_apache', 'double'),\n",
       " ('paco2_apache', 'double'),\n",
       " ('pao2_apache', 'double'),\n",
       " ('ph_apache', 'double'),\n",
       " ('resprate_apache', 'double'),\n",
       " ('sodium_apache', 'double'),\n",
       " ('temp_apache', 'double'),\n",
       " ('urineoutput_apache', 'double'),\n",
       " ('ventilated_apache', 'double'),\n",
       " ('wbc_apache', 'double'),\n",
       " ('d1_diasbp_invasive_max', 'double'),\n",
       " ('d1_diasbp_invasive_min', 'double'),\n",
       " ('d1_diasbp_max', 'double'),\n",
       " ('d1_diasbp_min', 'double'),\n",
       " ('d1_heartrate_max', 'double'),\n",
       " ('d1_heartrate_min', 'double'),\n",
       " ('d1_mbp_invasive_max', 'double'),\n",
       " ('d1_mbp_invasive_min', 'double'),\n",
       " ('d1_mbp_max', 'double'),\n",
       " ('d1_mbp_min', 'double'),\n",
       " ('d1_resprate_max', 'double'),\n",
       " ('d1_resprate_min', 'double'),\n",
       " ('d1_spo2_max', 'double'),\n",
       " ('d1_spo2_min', 'double'),\n",
       " ('d1_sysbp_invasive_max', 'double'),\n",
       " ('d1_sysbp_invasive_min', 'double'),\n",
       " ('d1_sysbp_max', 'double'),\n",
       " ('d1_sysbp_min', 'double'),\n",
       " ('d1_temp_max', 'double'),\n",
       " ('d1_temp_min', 'double'),\n",
       " ('h1_diasbp_invasive_max', 'double'),\n",
       " ('h1_diasbp_invasive_min', 'double'),\n",
       " ('h1_diasbp_max', 'double'),\n",
       " ('h1_diasbp_min', 'double'),\n",
       " ('h1_heartrate_max', 'double'),\n",
       " ('h1_heartrate_min', 'double'),\n",
       " ('h1_mbp_invasive_max', 'double'),\n",
       " ('h1_mbp_invasive_min', 'double'),\n",
       " ('h1_mbp_max', 'double'),\n",
       " ('h1_mbp_min', 'double'),\n",
       " ('h1_resprate_max', 'double'),\n",
       " ('h1_resprate_min', 'double'),\n",
       " ('h1_spo2_max', 'double'),\n",
       " ('h1_spo2_min', 'double'),\n",
       " ('h1_sysbp_invasive_max', 'double'),\n",
       " ('h1_sysbp_invasive_min', 'double'),\n",
       " ('h1_sysbp_max', 'double'),\n",
       " ('h1_sysbp_min', 'double'),\n",
       " ('h1_temp_max', 'double'),\n",
       " ('h1_temp_min', 'double'),\n",
       " ('d1_calcium_max', 'double'),\n",
       " ('d1_calcium_min', 'double'),\n",
       " ('d1_glucose_min', 'double'),\n",
       " ('d1_hco3_max', 'double'),\n",
       " ('d1_hco3_min', 'double'),\n",
       " ('d1_hemaglobin_max', 'double'),\n",
       " ('d1_inr_max', 'double'),\n",
       " ('d1_inr_min', 'double'),\n",
       " ('d1_lactate_max', 'double'),\n",
       " ('d1_lactate_min', 'double'),\n",
       " ('d1_platelets_max', 'double'),\n",
       " ('d1_potassium_max', 'double'),\n",
       " ('d1_potassium_min', 'double'),\n",
       " ('d1_sodium_max', 'double'),\n",
       " ('h1_calcium_max', 'double'),\n",
       " ('h1_glucose_max', 'double'),\n",
       " ('h1_potassium_max', 'double'),\n",
       " ('h1_sodium_max', 'double'),\n",
       " ('d1_arterial_pco2_max', 'double'),\n",
       " ('d1_arterial_pco2_min', 'double'),\n",
       " ('d1_arterial_ph_max', 'double'),\n",
       " ('d1_arterial_ph_min', 'double'),\n",
       " ('d1_arterial_po2_max', 'double'),\n",
       " ('d1_arterial_po2_min', 'double'),\n",
       " ('d1_pao2fio2ratio_max', 'double'),\n",
       " ('d1_pao2fio2ratio_min', 'double'),\n",
       " ('h1_arterial_ph_max', 'double'),\n",
       " ('h1_arterial_po2_max', 'double'),\n",
       " ('h1_arterial_po2_min', 'double'),\n",
       " ('h1_pao2fio2ratio_max', 'double'),\n",
       " ('apache_4a_hospital_death_prob', 'double'),\n",
       " ('apache_4a_icu_death_prob', 'double'),\n",
       " ('aids', 'double'),\n",
       " ('cirrhosis', 'double'),\n",
       " ('diabetes_mellitus', 'double'),\n",
       " ('hepatic_failure', 'double'),\n",
       " ('immunosuppression', 'double'),\n",
       " ('leukemia', 'double'),\n",
       " ('lymphoma', 'double'),\n",
       " ('solid_tumor_with_metastasis', 'double'),\n",
       " ('apache_3j_bodysystem', 'string'),\n",
       " ('apache_2_bodysystem', 'string')]"
      ]
     },
     "execution_count": 19,
     "metadata": {},
     "output_type": "execute_result"
    }
   ],
   "source": [
    "df_training.dtypes"
   ]
  },
  {
   "cell_type": "code",
   "execution_count": 20,
   "metadata": {},
   "outputs": [
    {
     "name": "stdout",
     "output_type": "stream",
     "text": [
      "['ethnicity', 'gender', 'hospital_admit_source', 'icu_admit_source', 'icu_stay_type', 'icu_type', 'apache_3j_bodysystem', 'apache_2_bodysystem']\n"
     ]
    }
   ],
   "source": [
    "categorical_features = [t[0] for t in df.dtypes if t[1] == 'string']\n",
    "print(categorical_features)"
   ]
  },
  {
   "cell_type": "code",
   "execution_count": 45,
   "metadata": {},
   "outputs": [
    {
     "name": "stdout",
     "output_type": "stream",
     "text": [
      "['encounter_id', 'patient_id', 'hospital_id', 'age', 'bmi', 'elective_surgery', 'height', 'icu_id', 'pre_icu_los_days', 'readmission_status', 'weight', 'albumin_apache', 'apache_2_diagnosis', 'apache_3j_diagnosis', 'arf_apache', 'bilirubin_apache', 'bun_apache', 'creatinine_apache', 'fio2_apache', 'gcs_eyes_apache', 'gcs_motor_apache', 'gcs_unable_apache', 'gcs_verbal_apache', 'glucose_apache', 'heart_rate_apache', 'hematocrit_apache', 'intubated_apache', 'map_apache', 'paco2_apache', 'pao2_apache', 'ph_apache', 'resprate_apache', 'sodium_apache', 'temp_apache', 'urineoutput_apache', 'ventilated_apache', 'wbc_apache', 'd1_diasbp_invasive_max', 'd1_diasbp_invasive_min', 'd1_diasbp_max', 'd1_diasbp_min', 'd1_heartrate_max', 'd1_heartrate_min', 'd1_mbp_invasive_max', 'd1_mbp_invasive_min', 'd1_mbp_max', 'd1_mbp_min', 'd1_resprate_max', 'd1_resprate_min', 'd1_spo2_max', 'd1_spo2_min', 'd1_sysbp_invasive_max', 'd1_sysbp_invasive_min', 'd1_sysbp_max', 'd1_sysbp_min', 'd1_temp_max', 'd1_temp_min', 'h1_diasbp_invasive_max', 'h1_diasbp_invasive_min', 'h1_diasbp_max', 'h1_diasbp_min', 'h1_heartrate_max', 'h1_heartrate_min', 'h1_mbp_invasive_max', 'h1_mbp_invasive_min', 'h1_mbp_max', 'h1_mbp_min', 'h1_resprate_max', 'h1_resprate_min', 'h1_spo2_max', 'h1_spo2_min', 'h1_sysbp_invasive_max', 'h1_sysbp_invasive_min', 'h1_sysbp_max', 'h1_sysbp_min', 'h1_temp_max', 'h1_temp_min', 'd1_calcium_max', 'd1_calcium_min', 'd1_glucose_min', 'd1_hco3_max', 'd1_hco3_min', 'd1_hemaglobin_max', 'd1_inr_max', 'd1_inr_min', 'd1_lactate_max', 'd1_lactate_min', 'd1_platelets_max', 'd1_potassium_max', 'd1_potassium_min', 'd1_sodium_max', 'h1_calcium_max', 'h1_glucose_max', 'h1_potassium_max', 'h1_sodium_max', 'd1_arterial_pco2_max', 'd1_arterial_pco2_min', 'd1_arterial_ph_max', 'd1_arterial_ph_min', 'd1_arterial_po2_max', 'd1_arterial_po2_min', 'd1_pao2fio2ratio_max', 'd1_pao2fio2ratio_min', 'h1_arterial_ph_max', 'h1_arterial_po2_max', 'h1_arterial_po2_min', 'h1_pao2fio2ratio_max', 'apache_4a_hospital_death_prob', 'apache_4a_icu_death_prob', 'aids', 'cirrhosis', 'diabetes_mellitus', 'hepatic_failure', 'immunosuppression', 'leukemia', 'lymphoma', 'solid_tumor_with_metastasis']\n"
     ]
    }
   ],
   "source": [
    "numeric_features = [c for c in df_training.drop('label').columns if c not in categorical_features]\n",
    "print(numeric_features)"
   ]
  },
  {
   "cell_type": "code",
   "execution_count": 28,
   "metadata": {},
   "outputs": [],
   "source": [
    "df_training = df_training.withColumnRenamed('hospital_death', 'label')"
   ]
  },
  {
   "cell_type": "code",
   "execution_count": 65,
   "metadata": {},
   "outputs": [],
   "source": [
    "# fill in nulls with 0 for now - will require updates\n",
    "\n",
    "df_training = df_training.fillna('0')and"
   ]
  },
  {
   "cell_type": "code",
   "execution_count": 66,
   "metadata": {},
   "outputs": [],
   "source": [
    "from pyspark.ml.feature import OneHotEncoderEstimator, StringIndexer, VectorAssembler\n",
    "\n",
    "stages = []\n",
    "\n",
    "for categoricalCol in categorical_features:\n",
    "    stringIndexer = StringIndexer(inputCol = categoricalCol, outputCol = categoricalCol + 'Index')\n",
    "    encoder = OneHotEncoderEstimator(inputCols=[stringIndexer.getOutputCol()], outputCols=[categoricalCol + \"classVec\"])\n",
    "    stages += [stringIndexer, encoder]\n",
    "\n",
    "assemblerInputs = [c + \"classVec\" for c in categorical_features] + numeric_features\n",
    "    \n",
    "assembler = VectorAssembler(inputCols=assemblerInputs, outputCol=\"features\")\n",
    "stages += [assembler]"
   ]
  },
  {
   "cell_type": "code",
   "execution_count": 67,
   "metadata": {},
   "outputs": [
    {
     "name": "stdout",
     "output_type": "stream",
     "text": [
      "root\n",
      " |-- label: integer (nullable = true)\n",
      " |-- features: vector (nullable = true)\n",
      " |-- ethnicity: string (nullable = false)\n",
      " |-- gender: string (nullable = false)\n",
      " |-- hospital_admit_source: string (nullable = false)\n",
      " |-- icu_admit_source: string (nullable = false)\n",
      " |-- icu_stay_type: string (nullable = false)\n",
      " |-- icu_type: string (nullable = false)\n",
      " |-- apache_3j_bodysystem: string (nullable = false)\n",
      " |-- apache_2_bodysystem: string (nullable = false)\n",
      " |-- encounter_id: integer (nullable = true)\n",
      " |-- patient_id: integer (nullable = true)\n",
      " |-- hospital_id: integer (nullable = true)\n",
      " |-- age: double (nullable = false)\n",
      " |-- bmi: double (nullable = false)\n",
      " |-- elective_surgery: integer (nullable = true)\n",
      " |-- height: double (nullable = false)\n",
      " |-- icu_id: integer (nullable = true)\n",
      " |-- pre_icu_los_days: double (nullable = false)\n",
      " |-- readmission_status: integer (nullable = true)\n",
      " |-- weight: double (nullable = false)\n",
      " |-- albumin_apache: double (nullable = false)\n",
      " |-- apache_2_diagnosis: double (nullable = false)\n",
      " |-- apache_3j_diagnosis: double (nullable = false)\n",
      " |-- arf_apache: double (nullable = false)\n",
      " |-- bilirubin_apache: double (nullable = false)\n",
      " |-- bun_apache: double (nullable = false)\n",
      " |-- creatinine_apache: double (nullable = false)\n",
      " |-- fio2_apache: double (nullable = false)\n",
      " |-- gcs_eyes_apache: double (nullable = false)\n",
      " |-- gcs_motor_apache: double (nullable = false)\n",
      " |-- gcs_unable_apache: double (nullable = false)\n",
      " |-- gcs_verbal_apache: double (nullable = false)\n",
      " |-- glucose_apache: double (nullable = false)\n",
      " |-- heart_rate_apache: double (nullable = false)\n",
      " |-- hematocrit_apache: double (nullable = false)\n",
      " |-- intubated_apache: double (nullable = false)\n",
      " |-- map_apache: double (nullable = false)\n",
      " |-- paco2_apache: double (nullable = false)\n",
      " |-- pao2_apache: double (nullable = false)\n",
      " |-- ph_apache: double (nullable = false)\n",
      " |-- resprate_apache: double (nullable = false)\n",
      " |-- sodium_apache: double (nullable = false)\n",
      " |-- temp_apache: double (nullable = false)\n",
      " |-- urineoutput_apache: double (nullable = false)\n",
      " |-- ventilated_apache: double (nullable = false)\n",
      " |-- wbc_apache: double (nullable = false)\n",
      " |-- d1_diasbp_invasive_max: double (nullable = false)\n",
      " |-- d1_diasbp_invasive_min: double (nullable = false)\n",
      " |-- d1_diasbp_max: double (nullable = false)\n",
      " |-- d1_diasbp_min: double (nullable = false)\n",
      " |-- d1_heartrate_max: double (nullable = false)\n",
      " |-- d1_heartrate_min: double (nullable = false)\n",
      " |-- d1_mbp_invasive_max: double (nullable = false)\n",
      " |-- d1_mbp_invasive_min: double (nullable = false)\n",
      " |-- d1_mbp_max: double (nullable = false)\n",
      " |-- d1_mbp_min: double (nullable = false)\n",
      " |-- d1_resprate_max: double (nullable = false)\n",
      " |-- d1_resprate_min: double (nullable = false)\n",
      " |-- d1_spo2_max: double (nullable = false)\n",
      " |-- d1_spo2_min: double (nullable = false)\n",
      " |-- d1_sysbp_invasive_max: double (nullable = false)\n",
      " |-- d1_sysbp_invasive_min: double (nullable = false)\n",
      " |-- d1_sysbp_max: double (nullable = false)\n",
      " |-- d1_sysbp_min: double (nullable = false)\n",
      " |-- d1_temp_max: double (nullable = false)\n",
      " |-- d1_temp_min: double (nullable = false)\n",
      " |-- h1_diasbp_invasive_max: double (nullable = false)\n",
      " |-- h1_diasbp_invasive_min: double (nullable = false)\n",
      " |-- h1_diasbp_max: double (nullable = false)\n",
      " |-- h1_diasbp_min: double (nullable = false)\n",
      " |-- h1_heartrate_max: double (nullable = false)\n",
      " |-- h1_heartrate_min: double (nullable = false)\n",
      " |-- h1_mbp_invasive_max: double (nullable = false)\n",
      " |-- h1_mbp_invasive_min: double (nullable = false)\n",
      " |-- h1_mbp_max: double (nullable = false)\n",
      " |-- h1_mbp_min: double (nullable = false)\n",
      " |-- h1_resprate_max: double (nullable = false)\n",
      " |-- h1_resprate_min: double (nullable = false)\n",
      " |-- h1_spo2_max: double (nullable = false)\n",
      " |-- h1_spo2_min: double (nullable = false)\n",
      " |-- h1_sysbp_invasive_max: double (nullable = false)\n",
      " |-- h1_sysbp_invasive_min: double (nullable = false)\n",
      " |-- h1_sysbp_max: double (nullable = false)\n",
      " |-- h1_sysbp_min: double (nullable = false)\n",
      " |-- h1_temp_max: double (nullable = false)\n",
      " |-- h1_temp_min: double (nullable = false)\n",
      " |-- d1_calcium_max: double (nullable = false)\n",
      " |-- d1_calcium_min: double (nullable = false)\n",
      " |-- d1_glucose_min: double (nullable = false)\n",
      " |-- d1_hco3_max: double (nullable = false)\n",
      " |-- d1_hco3_min: double (nullable = false)\n",
      " |-- d1_hemaglobin_max: double (nullable = false)\n",
      " |-- d1_inr_max: double (nullable = false)\n",
      " |-- d1_inr_min: double (nullable = false)\n",
      " |-- d1_lactate_max: double (nullable = false)\n",
      " |-- d1_lactate_min: double (nullable = false)\n",
      " |-- d1_platelets_max: double (nullable = false)\n",
      " |-- d1_potassium_max: double (nullable = false)\n",
      " |-- d1_potassium_min: double (nullable = false)\n",
      " |-- d1_sodium_max: double (nullable = false)\n",
      " |-- h1_calcium_max: double (nullable = false)\n",
      " |-- h1_glucose_max: double (nullable = false)\n",
      " |-- h1_potassium_max: double (nullable = false)\n",
      " |-- h1_sodium_max: double (nullable = false)\n",
      " |-- d1_arterial_pco2_max: double (nullable = false)\n",
      " |-- d1_arterial_pco2_min: double (nullable = false)\n",
      " |-- d1_arterial_ph_max: double (nullable = false)\n",
      " |-- d1_arterial_ph_min: double (nullable = false)\n",
      " |-- d1_arterial_po2_max: double (nullable = false)\n",
      " |-- d1_arterial_po2_min: double (nullable = false)\n",
      " |-- d1_pao2fio2ratio_max: double (nullable = false)\n",
      " |-- d1_pao2fio2ratio_min: double (nullable = false)\n",
      " |-- h1_arterial_ph_max: double (nullable = false)\n",
      " |-- h1_arterial_po2_max: double (nullable = false)\n",
      " |-- h1_arterial_po2_min: double (nullable = false)\n",
      " |-- h1_pao2fio2ratio_max: double (nullable = false)\n",
      " |-- apache_4a_hospital_death_prob: double (nullable = false)\n",
      " |-- apache_4a_icu_death_prob: double (nullable = false)\n",
      " |-- aids: double (nullable = false)\n",
      " |-- cirrhosis: double (nullable = false)\n",
      " |-- diabetes_mellitus: double (nullable = false)\n",
      " |-- hepatic_failure: double (nullable = false)\n",
      " |-- immunosuppression: double (nullable = false)\n",
      " |-- leukemia: double (nullable = false)\n",
      " |-- lymphoma: double (nullable = false)\n",
      " |-- solid_tumor_with_metastasis: double (nullable = false)\n",
      "\n"
     ]
    }
   ],
   "source": [
    "from pyspark.ml import Pipeline\n",
    "\n",
    "\n",
    "pipeline = Pipeline(stages = stages)\n",
    "pipelineModel = pipeline.fit(df_training)\n",
    "df_training_transformed = pipelineModel.transform(df_training)\n",
    "selectedCols = ['label', 'features'] + categorical_features + numeric_features\n",
    "df_training_transformed = df_training_transformed.select(selectedCols)\n",
    "df_training_transformed.printSchema()"
   ]
  },
  {
   "cell_type": "code",
   "execution_count": 78,
   "metadata": {},
   "outputs": [
    {
     "name": "stdout",
     "output_type": "stream",
     "text": [
      "Training Dataset Count: 64204\n",
      "Test Dataset Count: 27509\n"
     ]
    }
   ],
   "source": [
    "train, test = df_training_transformed.randomSplit([0.7, 0.3], seed = 2020)\n",
    "print(\"Training Dataset Count: \" + str(train.count()))\n",
    "print(\"Test Dataset Count: \" + str(test.count()))"
   ]
  },
  {
   "cell_type": "markdown",
   "metadata": {},
   "source": [
    "### Logistic Regression"
   ]
  },
  {
   "cell_type": "code",
   "execution_count": 79,
   "metadata": {},
   "outputs": [],
   "source": [
    "from pyspark.ml.classification import LogisticRegression\n",
    "lr = LogisticRegression(featuresCol = 'features', labelCol = 'label', maxIter=10)\n",
    "lrModel = lr.fit(train)"
   ]
  },
  {
   "cell_type": "code",
   "execution_count": 89,
   "metadata": {},
   "outputs": [
    {
     "data": {
      "image/png": "[encoded data removed]",
      "text/plain": [
       "<Figure size 432x288 with 1 Axes>"
      ]
     },
     "metadata": {
      "needs_background": "light"
     },
     "output_type": "display_data"
    }
   ],
   "source": [
    "# %matplotlib notebook\n",
    "import matplotlib.pyplot as plt\n",
    "import numpy as np\n",
    "beta = np.sort(lrModel.coefficients)\n",
    "plt.plot(beta)\n",
    "plt.ylabel('Beta Coefficients')\n",
    "plt.show()"
   ]
  },
  {
   "cell_type": "code",
   "execution_count": 90,
   "metadata": {},
   "outputs": [
    {
     "data": {
      "image/png": "[encoded data removed]",
      "text/plain": [
       "<Figure size 432x288 with 1 Axes>"
      ]
     },
     "metadata": {
      "needs_background": "light"
     },
     "output_type": "display_data"
    },
    {
     "name": "stdout",
     "output_type": "stream",
     "text": [
      "Training set areaUnderROC: 0.8726057933424342\n"
     ]
    }
   ],
   "source": [
    "trainingSummary = lrModel.summary\n",
    "roc = trainingSummary.roc.toPandas()\n",
    "plt.plot(roc['FPR'],roc['TPR'])\n",
    "plt.ylabel('False Positive Rate')\n",
    "plt.xlabel('True Positive Rate')\n",
    "plt.title('ROC Curve')\n",
    "plt.show()\n",
    "print('Training set areaUnderROC: ' + str(trainingSummary.areaUnderROC))"
   ]
  },
  {
   "cell_type": "code",
   "execution_count": 91,
   "metadata": {},
   "outputs": [
    {
     "data": {
      "image/png": "[encoded data removed]",
      "text/plain": [
       "<Figure size 432x288 with 1 Axes>"
      ]
     },
     "metadata": {
      "needs_background": "light"
     },
     "output_type": "display_data"
    }
   ],
   "source": [
    "pr = trainingSummary.pr.toPandas()\n",
    "plt.plot(pr['recall'],pr['precision'])\n",
    "plt.ylabel('Precision')\n",
    "plt.xlabel('Recall')\n",
    "plt.show()"
   ]
  },
  {
   "cell_type": "code",
   "execution_count": 97,
   "metadata": {},
   "outputs": [
    {
     "data": {
      "text/html": [
       "<div>\n",
       "<style scoped>\n",
       "    .dataframe tbody tr th:only-of-type {\n",
       "        vertical-align: middle;\n",
       "    }\n",
       "\n",
       "    .dataframe tbody tr th {\n",
       "        vertical-align: top;\n",
       "    }\n",
       "\n",
       "    .dataframe thead th {\n",
       "        text-align: right;\n",
       "    }\n",
       "</style>\n",
       "<table border=\"1\" class=\"dataframe\">\n",
       "  <thead>\n",
       "    <tr style=\"text-align: right;\">\n",
       "      <th></th>\n",
       "      <th>label</th>\n",
       "      <th>rawPrediction</th>\n",
       "      <th>prediction</th>\n",
       "      <th>probability</th>\n",
       "    </tr>\n",
       "  </thead>\n",
       "  <tbody>\n",
       "    <tr>\n",
       "      <th>0</th>\n",
       "      <td>0</td>\n",
       "      <td>[3.1656820111866404, -3.1656820111866404]</td>\n",
       "      <td>0.0</td>\n",
       "      <td>[0.9595222091129615, 0.040477790887038505]</td>\n",
       "    </tr>\n",
       "    <tr>\n",
       "      <th>1</th>\n",
       "      <td>0</td>\n",
       "      <td>[1.8551969358917728, -1.8551969358917728]</td>\n",
       "      <td>0.0</td>\n",
       "      <td>[0.8647361289263845, 0.1352638710736154]</td>\n",
       "    </tr>\n",
       "    <tr>\n",
       "      <th>2</th>\n",
       "      <td>0</td>\n",
       "      <td>[2.2677190744422853, -2.2677190744422853]</td>\n",
       "      <td>0.0</td>\n",
       "      <td>[0.9061680258777114, 0.09383197412228858]</td>\n",
       "    </tr>\n",
       "    <tr>\n",
       "      <th>3</th>\n",
       "      <td>0</td>\n",
       "      <td>[0.6530253691155379, -0.6530253691155379]</td>\n",
       "      <td>0.0</td>\n",
       "      <td>[0.6576918984778239, 0.34230810152217606]</td>\n",
       "    </tr>\n",
       "    <tr>\n",
       "      <th>4</th>\n",
       "      <td>0</td>\n",
       "      <td>[2.3364221541125194, -2.3364221541125194]</td>\n",
       "      <td>0.0</td>\n",
       "      <td>[0.9118489197000188, 0.08815108029998117]</td>\n",
       "    </tr>\n",
       "    <tr>\n",
       "      <th>5</th>\n",
       "      <td>0</td>\n",
       "      <td>[2.0734477637113065, -2.0734477637113065]</td>\n",
       "      <td>0.0</td>\n",
       "      <td>[0.8882955295248665, 0.11170447047513353]</td>\n",
       "    </tr>\n",
       "    <tr>\n",
       "      <th>6</th>\n",
       "      <td>0</td>\n",
       "      <td>[1.413023634503856, -1.413023634503856]</td>\n",
       "      <td>0.0</td>\n",
       "      <td>[0.8042424121818879, 0.19575758781811217]</td>\n",
       "    </tr>\n",
       "    <tr>\n",
       "      <th>7</th>\n",
       "      <td>0</td>\n",
       "      <td>[3.0164519649509858, -3.0164519649509858]</td>\n",
       "      <td>0.0</td>\n",
       "      <td>[0.953311862025107, 0.04668813797489297]</td>\n",
       "    </tr>\n",
       "    <tr>\n",
       "      <th>8</th>\n",
       "      <td>0</td>\n",
       "      <td>[2.122914528354743, -2.122914528354743]</td>\n",
       "      <td>0.0</td>\n",
       "      <td>[0.8931104814322935, 0.1068895185677065]</td>\n",
       "    </tr>\n",
       "    <tr>\n",
       "      <th>9</th>\n",
       "      <td>0</td>\n",
       "      <td>[3.3649181275042355, -3.3649181275042355]</td>\n",
       "      <td>0.0</td>\n",
       "      <td>[0.9665899667392236, 0.03341003326077631]</td>\n",
       "    </tr>\n",
       "    <tr>\n",
       "      <th>10</th>\n",
       "      <td>0</td>\n",
       "      <td>[0.8316649894886818, -0.8316649894886818]</td>\n",
       "      <td>0.0</td>\n",
       "      <td>[0.6967068679558774, 0.3032931320441225]</td>\n",
       "    </tr>\n",
       "    <tr>\n",
       "      <th>11</th>\n",
       "      <td>0</td>\n",
       "      <td>[2.565640972554767, -2.565640972554767]</td>\n",
       "      <td>0.0</td>\n",
       "      <td>[0.9286172874063984, 0.0713827125936017]</td>\n",
       "    </tr>\n",
       "    <tr>\n",
       "      <th>12</th>\n",
       "      <td>0</td>\n",
       "      <td>[1.7556532259453017, -1.7556532259453017]</td>\n",
       "      <td>0.0</td>\n",
       "      <td>[0.8526644211948702, 0.14733557880512987]</td>\n",
       "    </tr>\n",
       "    <tr>\n",
       "      <th>13</th>\n",
       "      <td>0</td>\n",
       "      <td>[2.461901037568073, -2.461901037568073]</td>\n",
       "      <td>0.0</td>\n",
       "      <td>[0.9214274062482591, 0.078572593751741]</td>\n",
       "    </tr>\n",
       "    <tr>\n",
       "      <th>14</th>\n",
       "      <td>0</td>\n",
       "      <td>[2.600940584028726, -2.600940584028726]</td>\n",
       "      <td>0.0</td>\n",
       "      <td>[0.9309220895181944, 0.0690779104818057]</td>\n",
       "    </tr>\n",
       "    <tr>\n",
       "      <th>15</th>\n",
       "      <td>0</td>\n",
       "      <td>[1.2124463946321145, -1.2124463946321145]</td>\n",
       "      <td>0.0</td>\n",
       "      <td>[0.7707315241303166, 0.22926847586968327]</td>\n",
       "    </tr>\n",
       "    <tr>\n",
       "      <th>16</th>\n",
       "      <td>0</td>\n",
       "      <td>[0.057222113954966236, -0.057222113954966236]</td>\n",
       "      <td>0.0</td>\n",
       "      <td>[0.5143016262999599, 0.48569837370004015]</td>\n",
       "    </tr>\n",
       "    <tr>\n",
       "      <th>17</th>\n",
       "      <td>0</td>\n",
       "      <td>[0.5607536567563984, -0.5607536567563984]</td>\n",
       "      <td>0.0</td>\n",
       "      <td>[0.6366269039730925, 0.3633730960269074]</td>\n",
       "    </tr>\n",
       "    <tr>\n",
       "      <th>18</th>\n",
       "      <td>0</td>\n",
       "      <td>[3.7681923920330127, -3.7681923920330127]</td>\n",
       "      <td>0.0</td>\n",
       "      <td>[0.9774275137435037, 0.022572486256496233]</td>\n",
       "    </tr>\n",
       "    <tr>\n",
       "      <th>19</th>\n",
       "      <td>0</td>\n",
       "      <td>[2.5149149935804447, -2.5149149935804447]</td>\n",
       "      <td>0.0</td>\n",
       "      <td>[0.9251808243827002, 0.07481917561729988]</td>\n",
       "    </tr>\n",
       "    <tr>\n",
       "      <th>20</th>\n",
       "      <td>0</td>\n",
       "      <td>[4.260715153205576, -4.260715153205576]</td>\n",
       "      <td>0.0</td>\n",
       "      <td>[0.9860841765618868, 0.013915823438113076]</td>\n",
       "    </tr>\n",
       "    <tr>\n",
       "      <th>21</th>\n",
       "      <td>0</td>\n",
       "      <td>[3.377950239704182, -3.377950239704182]</td>\n",
       "      <td>0.0</td>\n",
       "      <td>[0.9670082737027903, 0.03299172629720984]</td>\n",
       "    </tr>\n",
       "    <tr>\n",
       "      <th>22</th>\n",
       "      <td>0</td>\n",
       "      <td>[4.01573095032754, -4.01573095032754]</td>\n",
       "      <td>0.0</td>\n",
       "      <td>[0.9822895445869243, 0.017710455413075674]</td>\n",
       "    </tr>\n",
       "    <tr>\n",
       "      <th>23</th>\n",
       "      <td>0</td>\n",
       "      <td>[4.57351624921942, -4.57351624921942]</td>\n",
       "      <td>0.0</td>\n",
       "      <td>[0.9897838445875184, 0.010216155412481604]</td>\n",
       "    </tr>\n",
       "    <tr>\n",
       "      <th>24</th>\n",
       "      <td>0</td>\n",
       "      <td>[4.1619457591182805, -4.1619457591182805]</td>\n",
       "      <td>0.0</td>\n",
       "      <td>[0.9846617090185017, 0.015338290981498151]</td>\n",
       "    </tr>\n",
       "    <tr>\n",
       "      <th>25</th>\n",
       "      <td>0</td>\n",
       "      <td>[4.534345221253238, -4.534345221253238]</td>\n",
       "      <td>0.0</td>\n",
       "      <td>[0.989380060445204, 0.010619939554796039]</td>\n",
       "    </tr>\n",
       "    <tr>\n",
       "      <th>26</th>\n",
       "      <td>0</td>\n",
       "      <td>[5.356296550825764, -5.356296550825764]</td>\n",
       "      <td>0.0</td>\n",
       "      <td>[0.995303810305047, 0.004696189694953034]</td>\n",
       "    </tr>\n",
       "    <tr>\n",
       "      <th>27</th>\n",
       "      <td>0</td>\n",
       "      <td>[5.049941151621455, -5.049941151621455]</td>\n",
       "      <td>0.0</td>\n",
       "      <td>[0.993631112092327, 0.006368887907672842]</td>\n",
       "    </tr>\n",
       "    <tr>\n",
       "      <th>28</th>\n",
       "      <td>0</td>\n",
       "      <td>[4.66963803376361, -4.66963803376361]</td>\n",
       "      <td>0.0</td>\n",
       "      <td>[0.990711423968594, 0.009288576031406]</td>\n",
       "    </tr>\n",
       "    <tr>\n",
       "      <th>29</th>\n",
       "      <td>0</td>\n",
       "      <td>[5.187039986230889, -5.187039986230889]</td>\n",
       "      <td>0.0</td>\n",
       "      <td>[0.994442533571116, 0.005557466428884099]</td>\n",
       "    </tr>\n",
       "    <tr>\n",
       "      <th>...</th>\n",
       "      <td>...</td>\n",
       "      <td>...</td>\n",
       "      <td>...</td>\n",
       "      <td>...</td>\n",
       "    </tr>\n",
       "    <tr>\n",
       "      <th>27479</th>\n",
       "      <td>1</td>\n",
       "      <td>[1.5288356767038984, -1.5288356767038984]</td>\n",
       "      <td>0.0</td>\n",
       "      <td>[0.8218358959470868, 0.17816410405291325]</td>\n",
       "    </tr>\n",
       "    <tr>\n",
       "      <th>27480</th>\n",
       "      <td>1</td>\n",
       "      <td>[-3.776222417974765, 3.776222417974765]</td>\n",
       "      <td>1.0</td>\n",
       "      <td>[0.02239599760476327, 0.9776040023952368]</td>\n",
       "    </tr>\n",
       "    <tr>\n",
       "      <th>27481</th>\n",
       "      <td>1</td>\n",
       "      <td>[2.703378593461159, -2.703378593461159]</td>\n",
       "      <td>0.0</td>\n",
       "      <td>[0.9372257128928532, 0.06277428710714676]</td>\n",
       "    </tr>\n",
       "    <tr>\n",
       "      <th>27482</th>\n",
       "      <td>1</td>\n",
       "      <td>[-2.975885548035437, 2.975885548035437]</td>\n",
       "      <td>1.0</td>\n",
       "      <td>[0.04852725016011906, 0.9514727498398808]</td>\n",
       "    </tr>\n",
       "    <tr>\n",
       "      <th>27483</th>\n",
       "      <td>1</td>\n",
       "      <td>[3.0317091840790087, -3.0317091840790087]</td>\n",
       "      <td>0.0</td>\n",
       "      <td>[0.9539862583666457, 0.04601374163335425]</td>\n",
       "    </tr>\n",
       "    <tr>\n",
       "      <th>27484</th>\n",
       "      <td>1</td>\n",
       "      <td>[1.8001390701328517, -1.8001390701328517]</td>\n",
       "      <td>0.0</td>\n",
       "      <td>[0.8581658631718602, 0.14183413682813978]</td>\n",
       "    </tr>\n",
       "    <tr>\n",
       "      <th>27485</th>\n",
       "      <td>1</td>\n",
       "      <td>[1.0388462650441626, -1.0388462650441626]</td>\n",
       "      <td>0.0</td>\n",
       "      <td>[0.7386273308083814, 0.26137266919161867]</td>\n",
       "    </tr>\n",
       "    <tr>\n",
       "      <th>27486</th>\n",
       "      <td>1</td>\n",
       "      <td>[1.1221308901820304, -1.1221308901820304]</td>\n",
       "      <td>0.0</td>\n",
       "      <td>[0.7543837607413888, 0.24561623925861117]</td>\n",
       "    </tr>\n",
       "    <tr>\n",
       "      <th>27487</th>\n",
       "      <td>1</td>\n",
       "      <td>[0.5267987465849782, -0.5267987465849782]</td>\n",
       "      <td>0.0</td>\n",
       "      <td>[0.6287361614530952, 0.3712638385469049]</td>\n",
       "    </tr>\n",
       "    <tr>\n",
       "      <th>27488</th>\n",
       "      <td>1</td>\n",
       "      <td>[1.0056649766390533, -1.0056649766390533]</td>\n",
       "      <td>0.0</td>\n",
       "      <td>[0.7321709216720915, 0.2678290783279085]</td>\n",
       "    </tr>\n",
       "    <tr>\n",
       "      <th>27489</th>\n",
       "      <td>1</td>\n",
       "      <td>[0.9002458262638031, -0.9002458262638031]</td>\n",
       "      <td>0.0</td>\n",
       "      <td>[0.711000017377974, 0.288999982622026]</td>\n",
       "    </tr>\n",
       "    <tr>\n",
       "      <th>27490</th>\n",
       "      <td>1</td>\n",
       "      <td>[-0.4553041001377296, 0.4553041001377296]</td>\n",
       "      <td>1.0</td>\n",
       "      <td>[0.3881004113021795, 0.6118995886978205]</td>\n",
       "    </tr>\n",
       "    <tr>\n",
       "      <th>27491</th>\n",
       "      <td>1</td>\n",
       "      <td>[3.0613222089570002, -3.0613222089570002]</td>\n",
       "      <td>0.0</td>\n",
       "      <td>[0.9552688293484204, 0.044731170651579485]</td>\n",
       "    </tr>\n",
       "    <tr>\n",
       "      <th>27492</th>\n",
       "      <td>1</td>\n",
       "      <td>[2.306577474354751, -2.306577474354751]</td>\n",
       "      <td>0.0</td>\n",
       "      <td>[0.9094203195175874, 0.09057968048241252]</td>\n",
       "    </tr>\n",
       "    <tr>\n",
       "      <th>27493</th>\n",
       "      <td>1</td>\n",
       "      <td>[1.172007686916528, -1.172007686916528]</td>\n",
       "      <td>0.0</td>\n",
       "      <td>[0.7635077228299074, 0.23649227717009264]</td>\n",
       "    </tr>\n",
       "    <tr>\n",
       "      <th>27494</th>\n",
       "      <td>1</td>\n",
       "      <td>[-1.678709946417523, 1.678709946417523]</td>\n",
       "      <td>1.0</td>\n",
       "      <td>[0.15726636881961914, 0.8427336311803809]</td>\n",
       "    </tr>\n",
       "    <tr>\n",
       "      <th>27495</th>\n",
       "      <td>1</td>\n",
       "      <td>[-3.446156506763907, 3.446156506763907]</td>\n",
       "      <td>1.0</td>\n",
       "      <td>[0.030883687487301657, 0.9691163125126985]</td>\n",
       "    </tr>\n",
       "    <tr>\n",
       "      <th>27496</th>\n",
       "      <td>1</td>\n",
       "      <td>[-0.45025798654969584, 0.45025798654969584]</td>\n",
       "      <td>1.0</td>\n",
       "      <td>[0.3892994291881562, 0.6107005708118438]</td>\n",
       "    </tr>\n",
       "    <tr>\n",
       "      <th>27497</th>\n",
       "      <td>1</td>\n",
       "      <td>[-0.1290872250583135, 0.1290872250583135]</td>\n",
       "      <td>1.0</td>\n",
       "      <td>[0.4677729326545174, 0.5322270673454825]</td>\n",
       "    </tr>\n",
       "    <tr>\n",
       "      <th>27498</th>\n",
       "      <td>1</td>\n",
       "      <td>[1.5573194931224557, -1.5573194931224557]</td>\n",
       "      <td>0.0</td>\n",
       "      <td>[0.8259683811569298, 0.17403161884307022]</td>\n",
       "    </tr>\n",
       "    <tr>\n",
       "      <th>27499</th>\n",
       "      <td>1</td>\n",
       "      <td>[3.6185499217359443, -3.6185499217359443]</td>\n",
       "      <td>0.0</td>\n",
       "      <td>[0.9738790621798443, 0.026120937820155645]</td>\n",
       "    </tr>\n",
       "    <tr>\n",
       "      <th>27500</th>\n",
       "      <td>1</td>\n",
       "      <td>[1.3683896462593648, -1.3683896462593648]</td>\n",
       "      <td>0.0</td>\n",
       "      <td>[0.7971198520966819, 0.20288014790331813]</td>\n",
       "    </tr>\n",
       "    <tr>\n",
       "      <th>27501</th>\n",
       "      <td>1</td>\n",
       "      <td>[2.7244891804549827, -2.7244891804549827]</td>\n",
       "      <td>0.0</td>\n",
       "      <td>[0.9384563219912812, 0.0615436780087189]</td>\n",
       "    </tr>\n",
       "    <tr>\n",
       "      <th>27502</th>\n",
       "      <td>1</td>\n",
       "      <td>[1.789117364491156, -1.789117364491156]</td>\n",
       "      <td>0.0</td>\n",
       "      <td>[0.856819028734882, 0.14318097126511803]</td>\n",
       "    </tr>\n",
       "    <tr>\n",
       "      <th>27503</th>\n",
       "      <td>1</td>\n",
       "      <td>[-0.8369571136550289, 0.8369571136550289]</td>\n",
       "      <td>1.0</td>\n",
       "      <td>[0.3021760377944344, 0.6978239622055656]</td>\n",
       "    </tr>\n",
       "    <tr>\n",
       "      <th>27504</th>\n",
       "      <td>1</td>\n",
       "      <td>[1.6121485643714955, -1.6121485643714955]</td>\n",
       "      <td>0.0</td>\n",
       "      <td>[0.8337094726778239, 0.16629052732217614]</td>\n",
       "    </tr>\n",
       "    <tr>\n",
       "      <th>27505</th>\n",
       "      <td>1</td>\n",
       "      <td>[0.9235618704497399, -0.9235618704497399]</td>\n",
       "      <td>0.0</td>\n",
       "      <td>[0.7157673051215512, 0.2842326948784487]</td>\n",
       "    </tr>\n",
       "    <tr>\n",
       "      <th>27506</th>\n",
       "      <td>1</td>\n",
       "      <td>[-1.5230058059524718, 1.5230058059524718]</td>\n",
       "      <td>1.0</td>\n",
       "      <td>[0.17901932558021794, 0.8209806744197821]</td>\n",
       "    </tr>\n",
       "    <tr>\n",
       "      <th>27507</th>\n",
       "      <td>1</td>\n",
       "      <td>[2.0708147088848374, -2.0708147088848374]</td>\n",
       "      <td>0.0</td>\n",
       "      <td>[0.8880339932503941, 0.11196600674960594]</td>\n",
       "    </tr>\n",
       "    <tr>\n",
       "      <th>27508</th>\n",
       "      <td>1</td>\n",
       "      <td>[0.3424815477415839, -0.3424815477415839]</td>\n",
       "      <td>0.0</td>\n",
       "      <td>[0.5847931943297741, 0.4152068056702259]</td>\n",
       "    </tr>\n",
       "  </tbody>\n",
       "</table>\n",
       "<p>27509 rows × 4 columns</p>\n",
       "</div>"
      ],
      "text/plain": [
       "       label                                  rawPrediction  prediction  \\\n",
       "0          0      [3.1656820111866404, -3.1656820111866404]         0.0   \n",
       "1          0      [1.8551969358917728, -1.8551969358917728]         0.0   \n",
       "2          0      [2.2677190744422853, -2.2677190744422853]         0.0   \n",
       "3          0      [0.6530253691155379, -0.6530253691155379]         0.0   \n",
       "4          0      [2.3364221541125194, -2.3364221541125194]         0.0   \n",
       "5          0      [2.0734477637113065, -2.0734477637113065]         0.0   \n",
       "6          0        [1.413023634503856, -1.413023634503856]         0.0   \n",
       "7          0      [3.0164519649509858, -3.0164519649509858]         0.0   \n",
       "8          0        [2.122914528354743, -2.122914528354743]         0.0   \n",
       "9          0      [3.3649181275042355, -3.3649181275042355]         0.0   \n",
       "10         0      [0.8316649894886818, -0.8316649894886818]         0.0   \n",
       "11         0        [2.565640972554767, -2.565640972554767]         0.0   \n",
       "12         0      [1.7556532259453017, -1.7556532259453017]         0.0   \n",
       "13         0        [2.461901037568073, -2.461901037568073]         0.0   \n",
       "14         0        [2.600940584028726, -2.600940584028726]         0.0   \n",
       "15         0      [1.2124463946321145, -1.2124463946321145]         0.0   \n",
       "16         0  [0.057222113954966236, -0.057222113954966236]         0.0   \n",
       "17         0      [0.5607536567563984, -0.5607536567563984]         0.0   \n",
       "18         0      [3.7681923920330127, -3.7681923920330127]         0.0   \n",
       "19         0      [2.5149149935804447, -2.5149149935804447]         0.0   \n",
       "20         0        [4.260715153205576, -4.260715153205576]         0.0   \n",
       "21         0        [3.377950239704182, -3.377950239704182]         0.0   \n",
       "22         0          [4.01573095032754, -4.01573095032754]         0.0   \n",
       "23         0          [4.57351624921942, -4.57351624921942]         0.0   \n",
       "24         0      [4.1619457591182805, -4.1619457591182805]         0.0   \n",
       "25         0        [4.534345221253238, -4.534345221253238]         0.0   \n",
       "26         0        [5.356296550825764, -5.356296550825764]         0.0   \n",
       "27         0        [5.049941151621455, -5.049941151621455]         0.0   \n",
       "28         0          [4.66963803376361, -4.66963803376361]         0.0   \n",
       "29         0        [5.187039986230889, -5.187039986230889]         0.0   \n",
       "...      ...                                            ...         ...   \n",
       "27479      1      [1.5288356767038984, -1.5288356767038984]         0.0   \n",
       "27480      1        [-3.776222417974765, 3.776222417974765]         1.0   \n",
       "27481      1        [2.703378593461159, -2.703378593461159]         0.0   \n",
       "27482      1        [-2.975885548035437, 2.975885548035437]         1.0   \n",
       "27483      1      [3.0317091840790087, -3.0317091840790087]         0.0   \n",
       "27484      1      [1.8001390701328517, -1.8001390701328517]         0.0   \n",
       "27485      1      [1.0388462650441626, -1.0388462650441626]         0.0   \n",
       "27486      1      [1.1221308901820304, -1.1221308901820304]         0.0   \n",
       "27487      1      [0.5267987465849782, -0.5267987465849782]         0.0   \n",
       "27488      1      [1.0056649766390533, -1.0056649766390533]         0.0   \n",
       "27489      1      [0.9002458262638031, -0.9002458262638031]         0.0   \n",
       "27490      1      [-0.4553041001377296, 0.4553041001377296]         1.0   \n",
       "27491      1      [3.0613222089570002, -3.0613222089570002]         0.0   \n",
       "27492      1        [2.306577474354751, -2.306577474354751]         0.0   \n",
       "27493      1        [1.172007686916528, -1.172007686916528]         0.0   \n",
       "27494      1        [-1.678709946417523, 1.678709946417523]         1.0   \n",
       "27495      1        [-3.446156506763907, 3.446156506763907]         1.0   \n",
       "27496      1    [-0.45025798654969584, 0.45025798654969584]         1.0   \n",
       "27497      1      [-0.1290872250583135, 0.1290872250583135]         1.0   \n",
       "27498      1      [1.5573194931224557, -1.5573194931224557]         0.0   \n",
       "27499      1      [3.6185499217359443, -3.6185499217359443]         0.0   \n",
       "27500      1      [1.3683896462593648, -1.3683896462593648]         0.0   \n",
       "27501      1      [2.7244891804549827, -2.7244891804549827]         0.0   \n",
       "27502      1        [1.789117364491156, -1.789117364491156]         0.0   \n",
       "27503      1      [-0.8369571136550289, 0.8369571136550289]         1.0   \n",
       "27504      1      [1.6121485643714955, -1.6121485643714955]         0.0   \n",
       "27505      1      [0.9235618704497399, -0.9235618704497399]         0.0   \n",
       "27506      1      [-1.5230058059524718, 1.5230058059524718]         1.0   \n",
       "27507      1      [2.0708147088848374, -2.0708147088848374]         0.0   \n",
       "27508      1      [0.3424815477415839, -0.3424815477415839]         0.0   \n",
       "\n",
       "                                      probability  \n",
       "0      [0.9595222091129615, 0.040477790887038505]  \n",
       "1        [0.8647361289263845, 0.1352638710736154]  \n",
       "2       [0.9061680258777114, 0.09383197412228858]  \n",
       "3       [0.6576918984778239, 0.34230810152217606]  \n",
       "4       [0.9118489197000188, 0.08815108029998117]  \n",
       "5       [0.8882955295248665, 0.11170447047513353]  \n",
       "6       [0.8042424121818879, 0.19575758781811217]  \n",
       "7        [0.953311862025107, 0.04668813797489297]  \n",
       "8        [0.8931104814322935, 0.1068895185677065]  \n",
       "9       [0.9665899667392236, 0.03341003326077631]  \n",
       "10       [0.6967068679558774, 0.3032931320441225]  \n",
       "11       [0.9286172874063984, 0.0713827125936017]  \n",
       "12      [0.8526644211948702, 0.14733557880512987]  \n",
       "13        [0.9214274062482591, 0.078572593751741]  \n",
       "14       [0.9309220895181944, 0.0690779104818057]  \n",
       "15      [0.7707315241303166, 0.22926847586968327]  \n",
       "16      [0.5143016262999599, 0.48569837370004015]  \n",
       "17       [0.6366269039730925, 0.3633730960269074]  \n",
       "18     [0.9774275137435037, 0.022572486256496233]  \n",
       "19      [0.9251808243827002, 0.07481917561729988]  \n",
       "20     [0.9860841765618868, 0.013915823438113076]  \n",
       "21      [0.9670082737027903, 0.03299172629720984]  \n",
       "22     [0.9822895445869243, 0.017710455413075674]  \n",
       "23     [0.9897838445875184, 0.010216155412481604]  \n",
       "24     [0.9846617090185017, 0.015338290981498151]  \n",
       "25      [0.989380060445204, 0.010619939554796039]  \n",
       "26      [0.995303810305047, 0.004696189694953034]  \n",
       "27      [0.993631112092327, 0.006368887907672842]  \n",
       "28         [0.990711423968594, 0.009288576031406]  \n",
       "29      [0.994442533571116, 0.005557466428884099]  \n",
       "...                                           ...  \n",
       "27479   [0.8218358959470868, 0.17816410405291325]  \n",
       "27480   [0.02239599760476327, 0.9776040023952368]  \n",
       "27481   [0.9372257128928532, 0.06277428710714676]  \n",
       "27482   [0.04852725016011906, 0.9514727498398808]  \n",
       "27483   [0.9539862583666457, 0.04601374163335425]  \n",
       "27484   [0.8581658631718602, 0.14183413682813978]  \n",
       "27485   [0.7386273308083814, 0.26137266919161867]  \n",
       "27486   [0.7543837607413888, 0.24561623925861117]  \n",
       "27487    [0.6287361614530952, 0.3712638385469049]  \n",
       "27488    [0.7321709216720915, 0.2678290783279085]  \n",
       "27489      [0.711000017377974, 0.288999982622026]  \n",
       "27490    [0.3881004113021795, 0.6118995886978205]  \n",
       "27491  [0.9552688293484204, 0.044731170651579485]  \n",
       "27492   [0.9094203195175874, 0.09057968048241252]  \n",
       "27493   [0.7635077228299074, 0.23649227717009264]  \n",
       "27494   [0.15726636881961914, 0.8427336311803809]  \n",
       "27495  [0.030883687487301657, 0.9691163125126985]  \n",
       "27496    [0.3892994291881562, 0.6107005708118438]  \n",
       "27497    [0.4677729326545174, 0.5322270673454825]  \n",
       "27498   [0.8259683811569298, 0.17403161884307022]  \n",
       "27499  [0.9738790621798443, 0.026120937820155645]  \n",
       "27500   [0.7971198520966819, 0.20288014790331813]  \n",
       "27501    [0.9384563219912812, 0.0615436780087189]  \n",
       "27502    [0.856819028734882, 0.14318097126511803]  \n",
       "27503    [0.3021760377944344, 0.6978239622055656]  \n",
       "27504   [0.8337094726778239, 0.16629052732217614]  \n",
       "27505    [0.7157673051215512, 0.2842326948784487]  \n",
       "27506   [0.17901932558021794, 0.8209806744197821]  \n",
       "27507   [0.8880339932503941, 0.11196600674960594]  \n",
       "27508    [0.5847931943297741, 0.4152068056702259]  \n",
       "\n",
       "[27509 rows x 4 columns]"
      ]
     },
     "execution_count": 97,
     "metadata": {},
     "output_type": "execute_result"
    }
   ],
   "source": [
    "predictions = lrModel.transform(test)\n",
    "predictions.select('label', 'rawPrediction', 'prediction', 'probability').toPandas()"
   ]
  },
  {
   "cell_type": "code",
   "execution_count": 95,
   "metadata": {},
   "outputs": [
    {
     "name": "stdout",
     "output_type": "stream",
     "text": [
      "Test Area Under ROC 0.8722792315951601\n"
     ]
    }
   ],
   "source": [
    "from pyspark.ml.evaluation import BinaryClassificationEvaluator\n",
    "evaluator = BinaryClassificationEvaluator()\n",
    "print('Test Area Under ROC', evaluator.evaluate(predictions))"
   ]
  },
  {
   "cell_type": "markdown",
   "metadata": {},
   "source": [
    "### Decision Tree Classifier"
   ]
  },
  {
   "cell_type": "code",
   "execution_count": 100,
   "metadata": {},
   "outputs": [
    {
     "name": "stdout",
     "output_type": "stream",
     "text": [
      "+-----+----------------+----------+--------------------+\n",
      "|label|   rawPrediction|prediction|         probability|\n",
      "+-----+----------------+----------+--------------------+\n",
      "|    0| [6774.0,1210.0]|       0.0|[0.84844689378757...|\n",
      "|    0|[48565.0,1636.0]|       0.0|[0.96741100774884...|\n",
      "|    0|  [1882.0,899.0]|       0.0|[0.67673498741459...|\n",
      "|    0|   [456.0,184.0]|       0.0|     [0.7125,0.2875]|\n",
      "|    0|[48565.0,1636.0]|       0.0|[0.96741100774884...|\n",
      "|    0|[48565.0,1636.0]|       0.0|[0.96741100774884...|\n",
      "|    0|[48565.0,1636.0]|       0.0|[0.96741100774884...|\n",
      "|    0|[48565.0,1636.0]|       0.0|[0.96741100774884...|\n",
      "|    0|   [456.0,184.0]|       0.0|     [0.7125,0.2875]|\n",
      "|    0|[48565.0,1636.0]|       0.0|[0.96741100774884...|\n",
      "+-----+----------------+----------+--------------------+\n",
      "only showing top 10 rows\n",
      "\n"
     ]
    }
   ],
   "source": [
    "from pyspark.ml.classification import DecisionTreeClassifier\n",
    "dt = DecisionTreeClassifier(featuresCol = 'features', labelCol = 'label', maxDepth = 3)\n",
    "dtModel = dt.fit(train)\n",
    "predictions = dtModel.transform(test)\n",
    "predictions.select('label', 'rawPrediction', 'prediction', 'probability').show(10)"
   ]
  },
  {
   "cell_type": "code",
   "execution_count": 101,
   "metadata": {},
   "outputs": [
    {
     "name": "stdout",
     "output_type": "stream",
     "text": [
      "Test Area Under ROC: 0.20865821212908284\n"
     ]
    }
   ],
   "source": [
    "evaluator = BinaryClassificationEvaluator()\n",
    "print(\"Test Area Under ROC: \" + str(evaluator.evaluate(predictions, {evaluator.metricName: \"areaUnderROC\"})))"
   ]
  },
  {
   "cell_type": "markdown",
   "metadata": {},
   "source": [
    "### Random Forest Classifier"
   ]
  },
  {
   "cell_type": "code",
   "execution_count": 102,
   "metadata": {},
   "outputs": [
    {
     "name": "stdout",
     "output_type": "stream",
     "text": [
      "+-----+--------------------+----------+--------------------+\n",
      "|label|       rawPrediction|prediction|         probability|\n",
      "+-----+--------------------+----------+--------------------+\n",
      "|    0|[18.7994332120878...|       0.0|[0.93997166060439...|\n",
      "|    0|[15.5246620944985...|       0.0|[0.77623310472492...|\n",
      "|    0|[12.2925590341518...|       0.0|[0.61462795170759...|\n",
      "|    0|[13.0008755314206...|       0.0|[0.65004377657103...|\n",
      "|    0|[17.7402287333059...|       0.0|[0.88701143666529...|\n",
      "|    0|[14.6249989546810...|       0.0|[0.73124994773405...|\n",
      "|    0|[14.8599469708844...|       0.0|[0.74299734854422...|\n",
      "|    0|[17.6954897592315...|       0.0|[0.88477448796157...|\n",
      "|    0|[16.1187814918483...|       0.0|[0.80593907459241...|\n",
      "|    0|[17.8272185801646...|       0.0|[0.89136092900823...|\n",
      "+-----+--------------------+----------+--------------------+\n",
      "only showing top 10 rows\n",
      "\n"
     ]
    }
   ],
   "source": [
    "from pyspark.ml.classification import RandomForestClassifier\n",
    "rf = RandomForestClassifier(featuresCol = 'features', labelCol = 'label')\n",
    "rfModel = rf.fit(train)\n",
    "predictions = rfModel.transform(test)\n",
    "predictions.select('label', 'rawPrediction', 'prediction', 'probability').show(10)"
   ]
  },
  {
   "cell_type": "code",
   "execution_count": 103,
   "metadata": {},
   "outputs": [
    {
     "name": "stdout",
     "output_type": "stream",
     "text": [
      "Test Area Under ROC: 0.8632556070613883\n"
     ]
    }
   ],
   "source": [
    "evaluator = BinaryClassificationEvaluator()\n",
    "print(\"Test Area Under ROC: \" + str(evaluator.evaluate(predictions, {evaluator.metricName: \"areaUnderROC\"})))"
   ]
  },
  {
   "cell_type": "markdown",
   "metadata": {},
   "source": [
    "### Gradient-Boosted Tree Classifier"
   ]
  },
  {
   "cell_type": "code",
   "execution_count": 104,
   "metadata": {},
   "outputs": [
    {
     "name": "stdout",
     "output_type": "stream",
     "text": [
      "+-----+--------------------+----------+--------------------+\n",
      "|label|       rawPrediction|prediction|         probability|\n",
      "+-----+--------------------+----------+--------------------+\n",
      "|    0|[0.98012400957318...|       0.0|[0.87655979128836...|\n",
      "|    0|[1.00780154862630...|       0.0|[0.88242559404891...|\n",
      "|    0|[0.57694148286113...|       0.0|[0.76021944164553...|\n",
      "|    0|[0.46538977688223...|       0.0|[0.71723341328470...|\n",
      "|    0|[1.08419107044785...|       0.0|[0.89737406744039...|\n",
      "|    0|[0.87441661093556...|       0.0|[0.85180557670547...|\n",
      "|    0|[0.79554285944183...|       0.0|[0.83076880127766...|\n",
      "|    0|[1.04123824758996...|       0.0|[0.88918828378918...|\n",
      "|    0|[0.34095909928139...|       0.0|[0.66416668489408...|\n",
      "|    0|[1.13235213760186...|       0.0|[0.90591137084712...|\n",
      "+-----+--------------------+----------+--------------------+\n",
      "only showing top 10 rows\n",
      "\n"
     ]
    }
   ],
   "source": [
    "from pyspark.ml.classification import GBTClassifier\n",
    "gbt = GBTClassifier(maxIter=10)\n",
    "gbtModel = gbt.fit(train)\n",
    "predictions = gbtModel.transform(test)\n",
    "predictions.select('label', 'rawPrediction', 'prediction', 'probability').show(10)"
   ]
  },
  {
   "cell_type": "code",
   "execution_count": 105,
   "metadata": {},
   "outputs": [
    {
     "name": "stdout",
     "output_type": "stream",
     "text": [
      "Test Area Under ROC: 0.8772852791323006\n"
     ]
    }
   ],
   "source": [
    "evaluator = BinaryClassificationEvaluator()\n",
    "print(\"Test Area Under ROC: \" + str(evaluator.evaluate(predictions, {evaluator.metricName: \"areaUnderROC\"})))"
   ]
  },
  {
   "cell_type": "code",
   "execution_count": 106,
   "metadata": {},
   "outputs": [
    {
     "name": "stdout",
     "output_type": "stream",
     "text": [
      "cacheNodeIds: If false, the algorithm will pass trees to executors to match instances with nodes. If true, the algorithm will cache node IDs for each instance. Caching can speed up training of deeper trees. Users can set how often should the cache be checkpointed or disable it by setting checkpointInterval. (default: False)\n",
      "checkpointInterval: set checkpoint interval (>= 1) or disable checkpoint (-1). E.g. 10 means that the cache will get checkpointed every 10 iterations. Note: this setting will be ignored if the checkpoint directory is not set in the SparkContext. (default: 10)\n",
      "featuresCol: features column name. (default: features)\n",
      "labelCol: label column name. (default: label)\n",
      "lossType: Loss function which GBT tries to minimize (case-insensitive). Supported options: logistic (default: logistic)\n",
      "maxBins: Max number of bins for discretizing continuous features.  Must be >=2 and >= number of categories for any categorical feature. (default: 32)\n",
      "maxDepth: Maximum depth of the tree. (>= 0) E.g., depth 0 means 1 leaf node; depth 1 means 1 internal node + 2 leaf nodes. (default: 5)\n",
      "maxIter: max number of iterations (>= 0). (default: 20, current: 10)\n",
      "maxMemoryInMB: Maximum memory in MB allocated to histogram aggregation. If too small, then 1 node will be split per iteration, and its aggregates may exceed this size. (default: 256)\n",
      "minInfoGain: Minimum information gain for a split to be considered at a tree node. (default: 0.0)\n",
      "minInstancesPerNode: Minimum number of instances each child must have after split. If a split causes the left or right child to have fewer than minInstancesPerNode, the split will be discarded as invalid. Should be >= 1. (default: 1)\n",
      "predictionCol: prediction column name. (default: prediction)\n",
      "seed: random seed. (default: 7864627282706771588)\n",
      "stepSize: Step size (a.k.a. learning rate) in interval (0, 1] for shrinking the contribution of each estimator. (default: 0.1)\n",
      "subsamplingRate: Fraction of the training data used for learning each decision tree, in range (0, 1]. (default: 1.0)\n"
     ]
    }
   ],
   "source": [
    "print(gbt.explainParams())"
   ]
  },
  {
   "cell_type": "code",
   "execution_count": 107,
   "metadata": {},
   "outputs": [
    {
     "data": {
      "text/plain": [
       "0.8836087965503158"
      ]
     },
     "execution_count": 107,
     "metadata": {},
     "output_type": "execute_result"
    }
   ],
   "source": [
    "from pyspark.ml.tuning import ParamGridBuilder, CrossValidator\n",
    "paramGrid = (ParamGridBuilder()\n",
    "             .addGrid(gbt.maxDepth, [2, 4, 6])\n",
    "             .addGrid(gbt.maxBins, [20, 60])\n",
    "             .addGrid(gbt.maxIter, [10, 20])\n",
    "             .build())\n",
    "cv = CrossValidator(estimator=gbt, estimatorParamMaps=paramGrid, evaluator=evaluator, numFolds=5)\n",
    "# Run cross validations.  This can take about 6 minutes since it is training over 20 trees!\n",
    "cvModel = cv.fit(train)\n",
    "predictions = cvModel.transform(test)\n",
    "evaluator.evaluate(predictions)"
   ]
  },
  {
   "cell_type": "code",
   "execution_count": 108,
   "metadata": {},
   "outputs": [
    {
     "data": {
      "text/plain": [
       "[0.845973989334342,\n",
       " 0.8605462693328801,\n",
       " 0.8468107911265681,\n",
       " 0.8594115934970514,\n",
       " 0.873170824507284,\n",
       " 0.8791529479005377,\n",
       " 0.8722178472761613,\n",
       " 0.8780047085168807,\n",
       " 0.878233864447928,\n",
       " 0.8840749031513842,\n",
       " 0.8764066034968803,\n",
       " 0.8831277192592144]"
      ]
     },
     "execution_count": 108,
     "metadata": {},
     "output_type": "execute_result"
    }
   ],
   "source": [
    "cvModel.avgMetrics"
   ]
  },
  {
   "cell_type": "code",
   "execution_count": 111,
   "metadata": {},
   "outputs": [],
   "source": [
    "bestModel = cvModel.bestModel"
   ]
  },
  {
   "cell_type": "code",
   "execution_count": 115,
   "metadata": {},
   "outputs": [
    {
     "name": "stdout",
     "output_type": "stream",
     "text": [
      "Best Param (MaxDepth):  6\n",
      "Best Param (MaxIter):  20\n",
      "Best Param (MaxBins):  20\n"
     ]
    }
   ],
   "source": [
    "print('Best Param (MaxDepth): ', bestModel._java_obj.getMaxDepth())\n",
    "print('Best Param (MaxIter): ', bestModel._java_obj.getMaxIter())\n",
    "print('Best Param (MaxBins): ', bestModel._java_obj.getMaxBins())"
   ]
  },
  {
   "cell_type": "code",
   "execution_count": 121,
   "metadata": {},
   "outputs": [
    {
     "data": {
      "text/plain": [
       "{'maxBins': 20, 'maxDepth': 6, 'maxIter': 20}"
      ]
     },
     "execution_count": 121,
     "metadata": {},
     "output_type": "execute_result"
    }
   ],
   "source": [
    "java_model = bestModel._java_obj\n",
    "{param.name: java_model.getOrDefault(java_model.getParam(param.name)) \n",
    "    for param in paramGrid[0]}"
   ]
  },
  {
   "cell_type": "code",
   "execution_count": 131,
   "metadata": {},
   "outputs": [],
   "source": [
    "# from pyspark import SparkContext\n",
    "# sc = SparkContext.getOrCreate()\n",
    "\n",
    "bestModel.save(\"bestModel\")"
   ]
  },
  {
   "cell_type": "code",
   "execution_count": 127,
   "metadata": {},
   "outputs": [
    {
     "data": {
      "text/plain": [
       "SparseVector(174, {0: 0.001, 1: 0.0015, 2: 0.0007, 3: 0.0001, 5: 0.0, 8: 0.0012, 9: 0.0001, 12: 0.0006, 13: 0.0004, 15: 0.0011, 16: 0.0003, 17: 0.0021, 18: 0.0005, 22: 0.0004, 24: 0.0021, 25: 0.002, 26: 0.0041, 27: 0.0002, 29: 0.0018, 30: 0.0014, 31: 0.0038, 32: 0.0009, 33: 0.0005, 36: 0.0008, 37: 0.0029, 38: 0.0006, 39: 0.0027, 40: 0.0004, 43: 0.0004, 46: 0.0003, 47: 0.0001, 57: 0.0035, 58: 0.0036, 59: 0.0048, 60: 0.0318, 61: 0.0078, 63: 0.0045, 64: 0.0131, 65: 0.0084, 68: 0.0034, 69: 0.0146, 70: 0.029, 72: 0.0025, 73: 0.0109, 74: 0.0098, 75: 0.0204, 76: 0.0062, 77: 0.0128, 79: 0.0081, 80: 0.0081, 81: 0.003, 82: 0.0038, 83: 0.001, 84: 0.0076, 85: 0.0016, 86: 0.0019, 87: 0.0026, 88: 0.0072, 89: 0.0074, 90: 0.0056, 91: 0.0065, 92: 0.01, 93: 0.0127, 94: 0.0024, 95: 0.0069, 96: 0.0049, 97: 0.0053, 98: 0.008, 99: 0.0245, 100: 0.003, 101: 0.0009, 102: 0.0109, 103: 0.0132, 104: 0.0057, 105: 0.0239, 106: 0.0073, 107: 0.0314, 108: 0.0015, 109: 0.0013, 110: 0.014, 111: 0.0352, 112: 0.0222, 113: 0.0111, 114: 0.0007, 115: 0.0005, 116: 0.0021, 117: 0.0017, 118: 0.0035, 119: 0.0045, 120: 0.0004, 122: 0.0014, 123: 0.0058, 124: 0.0019, 125: 0.0082, 126: 0.0028, 127: 0.0032, 130: 0.0026, 131: 0.0014, 132: 0.0031, 133: 0.0012, 134: 0.0075, 135: 0.0076, 136: 0.011, 137: 0.0141, 138: 0.009, 139: 0.0063, 140: 0.0103, 141: 0.0091, 142: 0.0042, 143: 0.0095, 144: 0.0095, 145: 0.0047, 146: 0.0142, 147: 0.0111, 148: 0.0005, 149: 0.0015, 150: 0.0017, 151: 0.0036, 152: 0.0133, 153: 0.0038, 154: 0.0034, 155: 0.0112, 156: 0.0069, 157: 0.0023, 158: 0.0047, 159: 0.002, 163: 0.0015, 164: 0.1983, 165: 0.0206, 168: 0.0018, 169: 0.0022, 170: 0.0022, 171: 0.0005, 173: 0.002})"
      ]
     },
     "execution_count": 127,
     "metadata": {},
     "output_type": "execute_result"
    }
   ],
   "source": [
    "bestModel.featureImportances"
   ]
  },
  {
   "cell_type": "code",
   "execution_count": 135,
   "metadata": {},
   "outputs": [],
   "source": [
    "from pyspark.ml.classification import GBTClassificationModel\n",
    "Loadedmodel = GBTClassificationModel.load(\"bestModel\")"
   ]
  },
  {
   "cell_type": "code",
   "execution_count": 136,
   "metadata": {},
   "outputs": [
    {
     "data": {
      "text/plain": [
       "GBTClassificationModel (uid=GBTClassifier_492e9d702cc7408b07d2) with 20 trees"
      ]
     },
     "execution_count": 136,
     "metadata": {},
     "output_type": "execute_result"
    }
   ],
   "source": [
    "Loadedmodel"
   ]
  },
  {
   "cell_type": "code",
   "execution_count": 140,
   "metadata": {},
   "outputs": [],
   "source": [
    "import pandas as pd\n",
    "\n",
    "# method copied from \n",
    "#https://www.timlrx.com/2018/06/19/feature-selection-using-feature-importance-score-creating-a-pyspark-estimator/\n",
    "\n",
    "\n",
    "def ExtractFeatureImp(featureImp, dataset, featuresCol):\n",
    "    list_extract = []\n",
    "    for i in dataset.schema[featuresCol].metadata[\"ml_attr\"][\"attrs\"]:\n",
    "        list_extract = list_extract + dataset.schema[featuresCol].metadata[\"ml_attr\"][\"attrs\"][i]\n",
    "    varlist = pd.DataFrame(list_extract)\n",
    "    varlist['score'] = varlist['idx'].apply(lambda x: featureImp[x])\n",
    "    return(varlist.sort_values('score', ascending = False))"
   ]
  },
  {
   "cell_type": "code",
   "execution_count": 141,
   "metadata": {},
   "outputs": [
    {
     "data": {
      "text/html": [
       "<div>\n",
       "<style scoped>\n",
       "    .dataframe tbody tr th:only-of-type {\n",
       "        vertical-align: middle;\n",
       "    }\n",
       "\n",
       "    .dataframe tbody tr th {\n",
       "        vertical-align: top;\n",
       "    }\n",
       "\n",
       "    .dataframe thead th {\n",
       "        text-align: right;\n",
       "    }\n",
       "</style>\n",
       "<table border=\"1\" class=\"dataframe\">\n",
       "  <thead>\n",
       "    <tr style=\"text-align: right;\">\n",
       "      <th></th>\n",
       "      <th>idx</th>\n",
       "      <th>name</th>\n",
       "      <th>score</th>\n",
       "    </tr>\n",
       "  </thead>\n",
       "  <tbody>\n",
       "    <tr>\n",
       "      <th>107</th>\n",
       "      <td>164</td>\n",
       "      <td>apache_4a_hospital_death_prob</td>\n",
       "      <td>0.198292</td>\n",
       "    </tr>\n",
       "    <tr>\n",
       "      <th>54</th>\n",
       "      <td>111</td>\n",
       "      <td>d1_sysbp_min</td>\n",
       "      <td>0.035187</td>\n",
       "    </tr>\n",
       "    <tr>\n",
       "      <th>3</th>\n",
       "      <td>60</td>\n",
       "      <td>age</td>\n",
       "      <td>0.031841</td>\n",
       "    </tr>\n",
       "    <tr>\n",
       "      <th>50</th>\n",
       "      <td>107</td>\n",
       "      <td>d1_spo2_min</td>\n",
       "      <td>0.031387</td>\n",
       "    </tr>\n",
       "    <tr>\n",
       "      <th>13</th>\n",
       "      <td>70</td>\n",
       "      <td>apache_3j_diagnosis</td>\n",
       "      <td>0.029041</td>\n",
       "    </tr>\n",
       "    <tr>\n",
       "      <th>42</th>\n",
       "      <td>99</td>\n",
       "      <td>d1_heartrate_min</td>\n",
       "      <td>0.024472</td>\n",
       "    </tr>\n",
       "    <tr>\n",
       "      <th>48</th>\n",
       "      <td>105</td>\n",
       "      <td>d1_resprate_min</td>\n",
       "      <td>0.023899</td>\n",
       "    </tr>\n",
       "    <tr>\n",
       "      <th>55</th>\n",
       "      <td>112</td>\n",
       "      <td>d1_temp_max</td>\n",
       "      <td>0.022220</td>\n",
       "    </tr>\n",
       "    <tr>\n",
       "      <th>108</th>\n",
       "      <td>165</td>\n",
       "      <td>apache_4a_icu_death_prob</td>\n",
       "      <td>0.020636</td>\n",
       "    </tr>\n",
       "    <tr>\n",
       "      <th>18</th>\n",
       "      <td>75</td>\n",
       "      <td>fio2_apache</td>\n",
       "      <td>0.020361</td>\n",
       "    </tr>\n",
       "  </tbody>\n",
       "</table>\n",
       "</div>"
      ],
      "text/plain": [
       "     idx                           name     score\n",
       "107  164  apache_4a_hospital_death_prob  0.198292\n",
       "54   111                   d1_sysbp_min  0.035187\n",
       "3     60                            age  0.031841\n",
       "50   107                    d1_spo2_min  0.031387\n",
       "13    70            apache_3j_diagnosis  0.029041\n",
       "42    99               d1_heartrate_min  0.024472\n",
       "48   105                d1_resprate_min  0.023899\n",
       "55   112                    d1_temp_max  0.022220\n",
       "108  165       apache_4a_icu_death_prob  0.020636\n",
       "18    75                    fio2_apache  0.020361"
      ]
     },
     "execution_count": 141,
     "metadata": {},
     "output_type": "execute_result"
    }
   ],
   "source": [
    "ExtractFeatureImp(bestModel.featureImportances, train, \"features\").head(10)\n"
   ]
  },
  {
   "cell_type": "code",
   "execution_count": 143,
   "metadata": {},
   "outputs": [
    {
     "name": "stdout",
     "output_type": "stream",
     "text": [
      "dtc accuracy: 0.926823948525937\n",
      "dtc recall 0.926823948525937\n"
     ]
    }
   ],
   "source": [
    "from pyspark.ml.evaluation import MulticlassClassificationEvaluator\n",
    "# resource:  https://datascience.stackexchange.com/questions/40160/why-am-i-getting-the-same-value-for-the-accuracy-and-recall-when-using-sparks-m\n",
    "\n",
    "accuracy_eval = MulticlassClassificationEvaluator(metricName = 'accuracy', labelCol='label')\n",
    "recall_eval = MulticlassClassificationEvaluator(metricName = 'weightedRecall', labelCol='label')\n",
    "\n",
    "print('dtc accuracy:', accuracy_eval.evaluate(predictions))\n",
    "print('dtc recall', recall_eval.evaluate(predictions))"
   ]
  },
  {
   "cell_type": "code",
   "execution_count": 147,
   "metadata": {},
   "outputs": [
    {
     "name": "stdout",
     "output_type": "stream",
     "text": [
      "areaUnderPR: 0.5200622170408549\n"
     ]
    }
   ],
   "source": [
    "print(\"areaUnderPR: \" + str(evaluator.evaluate(predictions, {evaluator.metricName: \"areaUnderPR\"})))"
   ]
  },
  {
   "cell_type": "code",
   "execution_count": 150,
   "metadata": {},
   "outputs": [
    {
     "name": "stdout",
     "output_type": "stream",
     "text": [
      "+-----+----------+\n",
      "|label|prediction|\n",
      "+-----+----------+\n",
      "|    0|       0.0|\n",
      "|    0|       0.0|\n",
      "|    0|       0.0|\n",
      "|    0|       0.0|\n",
      "|    0|       0.0|\n",
      "+-----+----------+\n",
      "only showing top 5 rows\n",
      "\n"
     ]
    }
   ],
   "source": [
    "predictions.select('label', 'prediction').show(5)"
   ]
  },
  {
   "cell_type": "code",
   "execution_count": 159,
   "metadata": {},
   "outputs": [
    {
     "name": "stdout",
     "output_type": "stream",
     "text": [
      "+-----+----------+-----+\n",
      "|label|prediction|count|\n",
      "+-----+----------+-----+\n",
      "|    1|       0.0| 1660|\n",
      "|    0|       0.0|24778|\n",
      "|    1|       1.0|  718|\n",
      "|    0|       1.0|  353|\n",
      "+-----+----------+-----+\n",
      "\n"
     ]
    }
   ],
   "source": [
    "predictions.groupBy('label', 'prediction').count().show()"
   ]
  },
  {
   "cell_type": "code",
   "execution_count": 153,
   "metadata": {},
   "outputs": [
    {
     "name": "stdout",
     "output_type": "stream",
     "text": [
      "Recall: 0.5889053987122338\n",
      "Precision: 0.8707433174661297\n",
      "F1: 0.7026148618702911\n"
     ]
    }
   ],
   "source": [
    "TP = predictions.filter(col('label')==1).count()\n",
    "FP = predictions.filter((col('label')==0)&(col('prediction')==1)).count()\n",
    "FN = predictions.filter((col('label')==1)&(col('prediction')==0)).count()\n",
    "\n",
    "Recall = TP/(TP+FN)\n",
    "Precision = TP/(TP+FP)\n",
    "F1 =  2*(Recall * Precision) / (Recall + Precision)\n",
    "\n",
    "print(\"Recall: \" + str(Recall))\n",
    "print(\"Precision: \" + str(Precision))\n",
    "print(\"F1: \" + str(F1))"
   ]
  },
  {
   "cell_type": "code",
   "execution_count": 164,
   "metadata": {},
   "outputs": [
    {
     "data": {
      "text/plain": [
       "array([[24778,   353],\n",
       "       [ 1660,   718]], dtype=int64)"
      ]
     },
     "execution_count": 164,
     "metadata": {},
     "output_type": "execute_result"
    }
   ],
   "source": [
    "from sklearn.metrics import confusion_matrix\n",
    "y_actu = np.array(predictions.select('label').collect())\n",
    "y_pred =  np.array(predictions.select('prediction').collect())\n",
    "confusion_matrix(y_actu, y_pred)"
   ]
  },
  {
   "cell_type": "code",
   "execution_count": 165,
   "metadata": {},
   "outputs": [
    {
     "name": "stdout",
     "output_type": "stream",
     "text": [
      "[[24778   353]\n",
      " [ 1660   718]]\n"
     ]
    },
    {
     "data": {
      "image/png": "[encoded data removed]",
      "text/plain": [
       "<Figure size 432x288 with 2 Axes>"
      ]
     },
     "metadata": {
      "needs_background": "light"
     },
     "output_type": "display_data"
    }
   ],
   "source": [
    "from sklearn.metrics import confusion_matrix\n",
    "\n",
    "labels = [0,1]\n",
    "cm = confusion_matrix(y_actu, y_pred, labels)\n",
    "print(cm)\n",
    "fig = plt.figure()\n",
    "ax = fig.add_subplot(111)\n",
    "cax = ax.matshow(cm)\n",
    "plt.title('Confusion matrix of the classifier')\n",
    "fig.colorbar(cax)\n",
    "ax.set_xticklabels([''] + labels)\n",
    "ax.set_yticklabels([''] + labels)\n",
    "plt.xlabel('Predicted')\n",
    "plt.ylabel('True')\n",
    "plt.show()"
   ]
  },
  {
   "cell_type": "code",
   "execution_count": 166,
   "metadata": {},
   "outputs": [
    {
     "data": {
      "image/png": "[encoded data removed]",
      "text/plain": [
       "<Figure size 720x720 with 2 Axes>"
      ]
     },
     "metadata": {
      "needs_background": "light"
     },
     "output_type": "display_data"
    }
   ],
   "source": [
    "from sklearn.metrics import confusion_matrix\n",
    "import seaborn as sns\n",
    "\n",
    "cm = confusion_matrix(y_actu, y_pred)\n",
    "# Normalise\n",
    "cmn = cm.astype('float') / cm.sum(axis=1)[:, np.newaxis]\n",
    "fig, ax = plt.subplots(figsize=(10,10))\n",
    "sns.heatmap(cmn, annot=True, fmt='.2f', xticklabels=[0,1], yticklabels=[0,1])\n",
    "plt.ylabel('Actual')\n",
    "plt.xlabel('Predicted')\n",
    "plt.show(block=False)"
   ]
  },
  {
   "cell_type": "code",
   "execution_count": 167,
   "metadata": {},
   "outputs": [
    {
     "name": "stdout",
     "output_type": "stream",
     "text": [
      "[[0.9859536 0.0140464]\n",
      " [0.6980656 0.3019344]]\n"
     ]
    }
   ],
   "source": [
    "print(cmn)"
   ]
  },
  {
   "cell_type": "code",
   "execution_count": 145,
   "metadata": {},
   "outputs": [
    {
     "ename": "AttributeError",
     "evalue": "'DataFrame' object has no attribute 'ctx'",
     "output_type": "error",
     "traceback": [
      "\u001b[1;31m---------------------------------------------------------------------------\u001b[0m",
      "\u001b[1;31mAttributeError\u001b[0m                            Traceback (most recent call last)",
      "\u001b[1;32m<ipython-input-145-cb29733b0e37>\u001b[0m in \u001b[0;36m<module>\u001b[1;34m()\u001b[0m\n\u001b[0;32m      1\u001b[0m \u001b[1;32mfrom\u001b[0m \u001b[0mpyspark\u001b[0m\u001b[1;33m.\u001b[0m\u001b[0mmllib\u001b[0m\u001b[1;33m.\u001b[0m\u001b[0mevaluation\u001b[0m \u001b[1;32mimport\u001b[0m \u001b[0mBinaryClassificationMetrics\u001b[0m\u001b[1;33m\u001b[0m\u001b[0m\n\u001b[0;32m      2\u001b[0m \u001b[1;33m\u001b[0m\u001b[0m\n\u001b[1;32m----> 3\u001b[1;33m \u001b[0mmetrics\u001b[0m \u001b[1;33m=\u001b[0m \u001b[0mBinaryClassificationMetrics\u001b[0m\u001b[1;33m(\u001b[0m\u001b[0mpredictions\u001b[0m\u001b[1;33m)\u001b[0m\u001b[1;33m\u001b[0m\u001b[0m\n\u001b[0m\u001b[0;32m      4\u001b[0m \u001b[0mprint\u001b[0m\u001b[1;33m(\u001b[0m\u001b[0mmetrics\u001b[0m\u001b[1;33m.\u001b[0m\u001b[0mareaUnderROC\u001b[0m\u001b[1;33m)\u001b[0m\u001b[1;33m\u001b[0m\u001b[0m\n\u001b[0;32m      5\u001b[0m \u001b[0mprint\u001b[0m\u001b[1;33m(\u001b[0m\u001b[0mmetrics\u001b[0m\u001b[1;33m.\u001b[0m\u001b[0mareaUnderPR\u001b[0m\u001b[1;33m)\u001b[0m\u001b[1;33m\u001b[0m\u001b[0m\n",
      "\u001b[1;32m~\\Anaconda3\\lib\\site-packages\\pyspark\\mllib\\evaluation.py\u001b[0m in \u001b[0;36m__init__\u001b[1;34m(self, scoreAndLabels)\u001b[0m\n\u001b[0;32m     46\u001b[0m \u001b[1;33m\u001b[0m\u001b[0m\n\u001b[0;32m     47\u001b[0m     \u001b[1;32mdef\u001b[0m \u001b[0m__init__\u001b[0m\u001b[1;33m(\u001b[0m\u001b[0mself\u001b[0m\u001b[1;33m,\u001b[0m \u001b[0mscoreAndLabels\u001b[0m\u001b[1;33m)\u001b[0m\u001b[1;33m:\u001b[0m\u001b[1;33m\u001b[0m\u001b[0m\n\u001b[1;32m---> 48\u001b[1;33m         \u001b[0msc\u001b[0m \u001b[1;33m=\u001b[0m \u001b[0mscoreAndLabels\u001b[0m\u001b[1;33m.\u001b[0m\u001b[0mctx\u001b[0m\u001b[1;33m\u001b[0m\u001b[0m\n\u001b[0m\u001b[0;32m     49\u001b[0m         \u001b[0msql_ctx\u001b[0m \u001b[1;33m=\u001b[0m \u001b[0mSQLContext\u001b[0m\u001b[1;33m.\u001b[0m\u001b[0mgetOrCreate\u001b[0m\u001b[1;33m(\u001b[0m\u001b[0msc\u001b[0m\u001b[1;33m)\u001b[0m\u001b[1;33m\u001b[0m\u001b[0m\n\u001b[0;32m     50\u001b[0m         df = sql_ctx.createDataFrame(scoreAndLabels, schema=StructType([\n",
      "\u001b[1;32m~\\Anaconda3\\lib\\site-packages\\pyspark\\sql\\dataframe.py\u001b[0m in \u001b[0;36m__getattr__\u001b[1;34m(self, name)\u001b[0m\n\u001b[0;32m   1180\u001b[0m         \u001b[1;32mif\u001b[0m \u001b[0mname\u001b[0m \u001b[1;32mnot\u001b[0m \u001b[1;32min\u001b[0m \u001b[0mself\u001b[0m\u001b[1;33m.\u001b[0m\u001b[0mcolumns\u001b[0m\u001b[1;33m:\u001b[0m\u001b[1;33m\u001b[0m\u001b[0m\n\u001b[0;32m   1181\u001b[0m             raise AttributeError(\n\u001b[1;32m-> 1182\u001b[1;33m                 \"'%s' object has no attribute '%s'\" % (self.__class__.__name__, name))\n\u001b[0m\u001b[0;32m   1183\u001b[0m         \u001b[0mjc\u001b[0m \u001b[1;33m=\u001b[0m \u001b[0mself\u001b[0m\u001b[1;33m.\u001b[0m\u001b[0m_jdf\u001b[0m\u001b[1;33m.\u001b[0m\u001b[0mapply\u001b[0m\u001b[1;33m(\u001b[0m\u001b[0mname\u001b[0m\u001b[1;33m)\u001b[0m\u001b[1;33m\u001b[0m\u001b[0m\n\u001b[0;32m   1184\u001b[0m         \u001b[1;32mreturn\u001b[0m \u001b[0mColumn\u001b[0m\u001b[1;33m(\u001b[0m\u001b[0mjc\u001b[0m\u001b[1;33m)\u001b[0m\u001b[1;33m\u001b[0m\u001b[0m\n",
      "\u001b[1;31mAttributeError\u001b[0m: 'DataFrame' object has no attribute 'ctx'"
     ]
    }
   ],
   "source": [
    "from pyspark.mllib.evaluation import BinaryClassificationMetrics\n",
    "\n",
    "metrics = BinaryClassificationMetrics(predictions)\n",
    "print(metrics.areaUnderROC)\n",
    "print(metrics.areaUnderPR)\n",
    "\n",
    "#resource: https://spark.apache.org/docs/latest/mllib-evaluation-metrics.html"
   ]
  },
  {
   "cell_type": "code",
   "execution_count": null,
   "metadata": {},
   "outputs": [],
   "source": []
  },
  {
   "cell_type": "code",
   "execution_count": null,
   "metadata": {},
   "outputs": [],
   "source": []
  },
  {
   "cell_type": "code",
   "execution_count": null,
   "metadata": {},
   "outputs": [],
   "source": [
    "## neural network"
   ]
  },
  {
   "cell_type": "code",
   "execution_count": null,
   "metadata": {},
   "outputs": [],
   "source": [
    "stages = []\n",
    "\n",
    "for categoricalCol in categorical_features:\n",
    "    stringIndexer_tf = StringIndexer(inputCol = categoricalCol, outputCol = categoricalCol + 'Index')\n",
    "    encoder_tf = OneHotEncoderEstimator(inputCols=[stringIndexer_tf.getOutputCol()], outputCols=[categoricalCol + \"classEncode\"])\n",
    "    stages_tf += [stringIndexer_tf, encoder_tf]\n",
    "\n",
    "pipeline_tf = Pipeline(stages = stages_tf)\n",
    "pipelineModel_tf = pipeline_tf.fit(df_training)\n",
    "df_training_transformed_tf = pipelineModel_tf.transform(df_training)\n",
    "# selectedCols = ['label'] + categorical_features + numeric_features\n",
    "# df_training_transformed_tf = df_training_transformed_tf.select(selectedCols)\n",
    "df_training_transformed_tf.printSchema()"
   ]
  }
 ],
 "metadata": {
  "kernelspec": {
   "display_name": "Python 3",
   "language": "python",
   "name": "python3"
  },
  "language_info": {
   "codemirror_mode": {
    "name": "ipython",
    "version": 3
   },
   "file_extension": ".py",
   "mimetype": "text/x-python",
   "name": "python",
   "nbconvert_exporter": "python",
   "pygments_lexer": "ipython3",
   "version": "3.6.4"
  }
 },
 "nbformat": 4,
 "nbformat_minor": 2
}
